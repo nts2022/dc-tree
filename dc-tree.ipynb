{
 "cells": [
  {
   "cell_type": "code",
   "execution_count": 1,
   "id": "eb8e5135-6eff-47ff-983d-55dbdae376ad",
   "metadata": {},
   "outputs": [],
   "source": [
    "import numpy as np\n",
    "import pandas as pd\n",
    "import matplotlib.pyplot as plt"
   ]
  },
  {
   "cell_type": "code",
   "execution_count": 17,
   "id": "fdbf6c5e-e6b0-4ecc-92d5-66c02a209413",
   "metadata": {},
   "outputs": [],
   "source": [
    "class ScratchDecesionTreeClassifierDepth1:\n",
    "    \"\"\"\n",
    "    深さ1の決定木分類器のスクラッチ実装\n",
    "\n",
    "    Parameters\n",
    "    ----------\n",
    "    verbose : bool\n",
    "      学習過程を出力する場合はTrue\n",
    "    \"\"\"\n",
    "    def __init__(self, verbose=False):\n",
    "        # ハイパーパラメータを属性として記録\n",
    "        self.verbose = verbose\n",
    "\n",
    "    def _gini(self, y):\n",
    "        s = 0.0\n",
    "        values, counts = np.unique(y, return_counts=True)\n",
    "        for v, c in zip(values, counts):\n",
    "            s += (c / len(y)) ** 2\n",
    "        return 1 - s\n",
    "\n",
    "    def _calc_ig(self, X, feature_index, y, threshold):\n",
    "        left_y = y[X[:, feature_index] < threshold]\n",
    "        right_y = y[X[:, feature_index] >= threshold]\n",
    "        gain_l = (len(left_y) / (len(left_y) + len(right_y))) * self._gini(left_y)\n",
    "        gain_r = (len(right_y) / (len(left_y) + len(right_y))) * self._gini(right_y)\n",
    "        gain = self._gini(y) - gain_l - gain_r\n",
    "        return gain\n",
    "\n",
    "    def fit(self, X, y):\n",
    "        \"\"\"\n",
    "        決定木分類器を学習する\n",
    "        Parameters\n",
    "        ----------\n",
    "        X : 次の形のndarray, shape (n_samples, n_features)\n",
    "            訓練データの特徴量\n",
    "        y : 次の形のndarray, shape (n_samples, )\n",
    "            訓練データの正解値\n",
    "        \"\"\"\n",
    "        best_gain = 0.0\n",
    "        for f_i in range(X.shape[1]):\n",
    "            for t in np.unique(X[:, f_i]):\n",
    "                g = self._calc_ig(X, f_i, y, t)\n",
    "                if g > best_gain:\n",
    "                    best_gain = g\n",
    "                    self.gain = g\n",
    "                    self.feature = f_i\n",
    "                    self.threshold = t\n",
    "                    # 最頻値を分類出力ラベルとする\n",
    "                    left = y[X[:, f_i] < t]\n",
    "                    right = y[X[:, f_i] >= t]\n",
    "                    values, counts = np.unique(left, return_counts=True)\n",
    "                    left_mode = values[counts == np.max(counts)][0]\n",
    "                    values, counts = np.unique(right, return_counts=True)\n",
    "                    right_mode = values[counts == np.max(counts)][0]\n",
    "                    self.left_label = left_mode\n",
    "                    self.right_label = right_mode\n",
    "                    # verboseをTrueにした際は学習過程を出力\n",
    "                    if self.verbose:\n",
    "                        print(f\"Update feature={f_i} threshold={t} gain={g}\")\n",
    "\n",
    "    def predict(self, X):\n",
    "        \"\"\"\n",
    "        決定木分類器を使いラベルを推定する\n",
    "        \"\"\"\n",
    "        return np.where(X[:, self.feature] < self.threshold, self.left_label, self.right_label)"
   ]
  },
  {
   "cell_type": "markdown",
   "id": "48f90960-baf5-4c1f-84b6-e93299c2ed4c",
   "metadata": {},
   "source": [
    "### 学習を行う"
   ]
  },
  {
   "cell_type": "code",
   "execution_count": 31,
   "id": "a6716a7b-ca57-4c39-a88c-69c7de7c7f1d",
   "metadata": {},
   "outputs": [],
   "source": [
    "from sklearn.model_selection import train_test_split\n",
    "\n",
    "# Sample data 2\n",
    "X = np.array([[-0.44699 , -2.8073  ],[-1.4621  , -2.4586  ],\n",
    "              [ 0.10645 ,  1.9242  ],[-3.5944  , -4.0112  ],\n",
    "              [-0.9888  ,  4.5718  ],[-3.1625  , -3.9606  ],\n",
    "              [ 0.56421 ,  0.72888 ],[-0.60216 ,  8.4636  ],\n",
    "              [-0.61251 , -0.75345 ],[-0.73535 , -2.2718  ],\n",
    "              [-0.80647 , -2.2135  ],[ 0.86291 ,  2.3946  ],\n",
    "              [-3.1108  ,  0.15394 ],[-2.9362  ,  2.5462  ],\n",
    "              [-0.57242 , -2.9915  ],[ 1.4771  ,  3.4896  ],\n",
    "              [ 0.58619 ,  0.37158 ],[ 0.6017  ,  4.3439  ],\n",
    "              [-2.1086  ,  8.3428  ],[-4.1013  , -4.353   ],\n",
    "              [-1.9948  , -1.3927  ],[ 0.35084 , -0.031994],\n",
    "              [ 0.96765 ,  7.8929  ],[-1.281   , 15.6824  ],\n",
    "              [ 0.96765 , 10.083   ],[ 1.3763  ,  1.3347  ],\n",
    "              [-2.234   , -2.5323  ],[-2.9452  , -1.8219  ],\n",
    "              [ 0.14654 , -0.28733 ],[ 0.5461  ,  5.8245  ],\n",
    "              [-0.65259 ,  9.3444  ],[ 0.59912 ,  5.3524  ],\n",
    "              [ 0.50214 , -0.31818 ],[-3.0603  , -3.6461  ],\n",
    "              [-6.6797  ,  0.67661 ],[-2.353   , -0.72261 ],\n",
    "              [ 1.1319  ,  2.4023  ],[-0.12243 ,  9.0162  ],\n",
    "              [-2.5677  , 13.1779  ],[ 0.057313,  5.4681  ]])\n",
    "\n",
    "y = np.array([0, 0, 0, 0, 0, 0, 0, 0, 0, 0, 0, 0, 0, 0, 0, 0, 0, 0, 0, 0,\n",
    "              1, 1,1, 1, 1, 1, 1, 1, 1, 1, 1, 1, 1, 1, 1, 1, 1, 1, 1, 1])\n",
    "\n",
    "X_train, X_test, y_train, y_test = train_test_split(X, y, test_size=0.3, random_state=0)"
   ]
  },
  {
   "cell_type": "code",
   "execution_count": 32,
   "id": "1b65ff9f-d7ea-4e50-bc0d-002b9a8159c9",
   "metadata": {},
   "outputs": [
    {
     "name": "stdout",
     "output_type": "stream",
     "text": [
      "Update feature=0 threshold=-4.1013 gain=0.021258503401360596\n",
      "Update feature=0 threshold=-3.0603 gain=0.030368234250221893\n",
      "Update feature=0 threshold=-0.12243 gain=0.038319873403907134\n",
      "Update feature=0 threshold=0.96765 gain=0.04415227629513341\n",
      "Update feature=1 threshold=-3.6461 gain=0.05173469387755103\n",
      "Update feature=1 threshold=-0.75345 gain=0.055510800811552685\n",
      "Update feature=1 threshold=-0.31818 gain=0.07760770975056702\n",
      "Update feature=1 threshold=2.4023 gain=0.08950398341154653\n",
      "Update feature=1 threshold=4.3439 gain=0.09310478577395874\n",
      "Update feature=1 threshold=5.3524 gain=0.13494897959183672\n"
     ]
    }
   ],
   "source": [
    "clf = ScratchDecesionTreeClassifierDepth1(verbose=True)\n",
    "clf.fit(X_train, y_train)"
   ]
  },
  {
   "cell_type": "code",
   "execution_count": 33,
   "id": "a482514b-b09f-4da1-af00-e8959508a7bc",
   "metadata": {},
   "outputs": [
    {
     "data": {
      "text/plain": [
       "(1, 5.3524)"
      ]
     },
     "execution_count": 33,
     "metadata": {},
     "output_type": "execute_result"
    }
   ],
   "source": [
    "# 学習した分割方法\n",
    "clf.feature, clf.threshold"
   ]
  },
  {
   "cell_type": "code",
   "execution_count": 34,
   "id": "a4222919-bd9e-4b90-ad9e-e138d33549ad",
   "metadata": {},
   "outputs": [
    {
     "name": "stdout",
     "output_type": "stream",
     "text": [
      "Accuracy 0.5\n",
      "Precision 0.6666666666666666\n",
      "Recall 0.2857142857142857\n",
      "F1-Score 0.4\n",
      "[[4 1]\n",
      " [5 2]]\n",
      "[1, 1, 1, 0, 0, 0, 1, 0, 0, 1, 1, 1]\n",
      "[1, 0, 0, 0, 0, 0, 0, 0, 1, 1, 0, 0]\n"
     ]
    }
   ],
   "source": [
    "import sklearn.metrics\n",
    "\n",
    "y_pred = clf.predict(X_test)\n",
    "# 指標値を計算\n",
    "print(\"Accuracy\", sklearn.metrics.accuracy_score(y_test, y_pred))\n",
    "print(\"Precision\", sklearn.metrics.precision_score(y_test, y_pred))\n",
    "print(\"Recall\", sklearn.metrics.recall_score(y_test, y_pred))\n",
    "print(\"F1-Score\", sklearn.metrics.f1_score(y_test, y_pred))\n",
    "print(sklearn.metrics.confusion_matrix(y_test, y_pred))\n",
    "# 結果も確認\n",
    "print(list(y_test))\n",
    "print(list(y_pred))"
   ]
  },
  {
   "cell_type": "markdown",
   "id": "5834cd19-d1cc-4b6a-a9de-b519b77b67e3",
   "metadata": {},
   "source": [
    "### Scikit-learn と比較"
   ]
  },
  {
   "cell_type": "code",
   "execution_count": 35,
   "id": "5440c99c-7c2a-4da2-a83d-ec3e2312e60e",
   "metadata": {},
   "outputs": [
    {
     "name": "stdout",
     "output_type": "stream",
     "text": [
      "Accuracy 0.5\n",
      "Precision 0.6666666666666666\n",
      "Recall 0.2857142857142857\n",
      "F1-Score 0.4\n",
      "[[4 1]\n",
      " [5 2]]\n",
      "[1, 1, 1, 0, 0, 0, 1, 0, 0, 1, 1, 1]\n",
      "[1, 0, 0, 0, 0, 0, 0, 0, 1, 1, 0, 0]\n"
     ]
    }
   ],
   "source": [
    "# 決定木\n",
    "from sklearn.tree import DecisionTreeClassifier\n",
    "clf2 = DecisionTreeClassifier(max_depth=1)\n",
    "clf2.fit(X_train, y_train)\n",
    "y_pred2 = clf2.predict(X_test)\n",
    "print(\"Accuracy\", sklearn.metrics.accuracy_score(y_test, y_pred2))\n",
    "print(\"Precision\", sklearn.metrics.precision_score(y_test, y_pred2))\n",
    "print(\"Recall\", sklearn.metrics.recall_score(y_test, y_pred2))\n",
    "print(\"F1-Score\", sklearn.metrics.f1_score(y_test, y_pred2))\n",
    "print(sklearn.metrics.confusion_matrix(y_test, y_pred2))\n",
    "# 結果も確認\n",
    "print(list(y_test))\n",
    "print(list(y_pred2))"
   ]
  },
  {
   "cell_type": "markdown",
   "id": "6c0eb577-e311-4f2b-8bdd-745c14075ace",
   "metadata": {},
   "source": [
    "### 決定領域の可視化"
   ]
  },
  {
   "cell_type": "code",
   "execution_count": 36,
   "id": "67cb3fda-08c2-49ac-8be3-2193acddb101",
   "metadata": {},
   "outputs": [
    {
     "data": {
      "image/png": "[encoded data removed]",
      "text/plain": [
       "<Figure size 640x480 with 1 Axes>"
      ]
     },
     "metadata": {},
     "output_type": "display_data"
    }
   ],
   "source": [
    "# 可視化\n",
    "from matplotlib.colors import ListedColormap\n",
    "def decision_region(X, y, model):\n",
    "    mesh_f0, mesh_f1  = np.meshgrid(\n",
    "        np.arange(np.min(X[:,0]) - 0.2, np.max(X[:,0]) + 0.2, 0.002),\n",
    "        np.arange(np.min(X[:,1]) - 0.2, np.max(X[:,1]) + 0.2, 0.002)\n",
    "    )\n",
    "    mesh = np.c_[np.ravel(mesh_f0), np.ravel(mesh_f1)]\n",
    "    y_pred = model.predict(mesh).reshape(mesh_f0.shape)\n",
    "    plt.title('decision region')\n",
    "    plt.xlabel('feature0')\n",
    "    plt.ylabel('feature1')\n",
    "    plt.contourf(mesh_f0, mesh_f1, y_pred,cmap=ListedColormap(['pink', 'skyblue']))\n",
    "    plt.contour(mesh_f0, mesh_f1, y_pred,colors='red')\n",
    "    plt.scatter(X[y==0][:, 0], X[y==0][:, 1],label='0')\n",
    "    plt.scatter(X[y==1][:, 0], X[y==1][:, 1],label='1')\n",
    "    plt.legend()\n",
    "    plt.show()\n",
    "decision_region(X_test, y_test, clf)"
   ]
  },
  {
   "cell_type": "markdown",
   "id": "576f2d50-1298-4c21-af8b-9810237e12b5",
   "metadata": {},
   "source": [
    "### 深さに制限のない決定木分類器クラスの作成\n",
    "\n",
    "深さ2の決定木分類器クラスの作成"
   ]
  },
  {
   "cell_type": "code",
   "execution_count": null,
   "id": "3d5b4b16-c88c-4ac7-b4f3-d875adc72bcb",
   "metadata": {},
   "outputs": [],
   "source": [
    "class ScratchDecesionTreeClassifierDepthInf:\n",
    "    \"\"\"\n",
    "    任意の深さの決定木分類器のスクラッチ実装\n",
    "\n",
    "    Parameters\n",
    "    ----------\n",
    "    verbose : bool\n",
    "      学習過程を出力する場合はTrue\n",
    "    \"\"\"\n",
    "    def __init__(self, depth=None, verbose=False):\n",
    "        # ハイパーパラメータを属性として記録\n",
    "        self.depth = depth\n",
    "        self.verbose = verbose\n",
    "\n",
    "    def _gini(self, y):\n",
    "        s = 0.0\n",
    "        values, counts = np.unique(y, return_counts=True)\n",
    "        for v, c in zip(values, counts):\n",
    "            s += (c / len(y)) ** 2\n",
    "        return 1 - s\n",
    "\n",
    "    def _calc_ig(self, X, feature_index, y, threshold):\n",
    "        left_y = y[X[:, feature_index] < threshold]\n",
    "        right_y = y[X[:, feature_index] >= threshold]\n",
    "        gain_l = (len(left_y) / (len(left_y) + len(right_y))) * self._gini(left_y)\n",
    "        gain_r = (len(right_y) / (len(left_y) + len(right_y))) * self._gini(right_y)\n",
    "        gain = self._gini(y) - gain_l - gain_r\n",
    "        return gain\n",
    "\n",
    "    def fit(self, X, y):\n",
    "        \"\"\"\n",
    "        決定木分類器を学習する\n",
    "        Parameters\n",
    "        ----------\n",
    "        X : 次の形のndarray, shape (n_samples, n_features)\n",
    "            訓練データの特徴量\n",
    "        y : 次の形のndarray, shape (n_samples, )\n",
    "            訓練データの正解値\n",
    "        \"\"\"\n",
    "        best_gain = 0.0\n",
    "        for f_i in range(X.shape[1]):\n",
    "            for t in np.unique(X[:, f_i]):\n",
    "                g = self._calc_ig(X, f_i, y, t)\n",
    "                if g > best_gain:\n",
    "                    best_gain = g\n",
    "                    self.gain = g\n",
    "                    self.feature = f_i\n",
    "                    self.threshold = t\n",
    "                    # 最頻値を分類出力ラベルとする\n",
    "                    left = y[X[:, f_i] < t]\n",
    "                    right = y[X[:, f_i] >= t]\n",
    "                    values, counts = np.unique(left, return_counts=True)\n",
    "                    left_mode = values[counts == np.max(counts)][0]\n",
    "                    values, counts = np.unique(right, return_counts=True)\n",
    "                    right_mode = values[counts == np.max(counts)][0]\n",
    "                    self.left_label = left_mode\n",
    "                    self.right_label = right_mode\n",
    "                    # verboseをTrueにした際は学習過程を出力\n",
    "                    if self.verbose:\n",
    "                        print(f\"Update feature={f_i} threshold={t} gain={g}\")\n",
    "\n",
    "    def predict(self, X):\n",
    "        \"\"\"\n",
    "        決定木分類器を使いラベルを推定する\n",
    "        \"\"\"\n",
    "        return np.where(X[:, self.feature] < self.threshold, self.left_label, self.right_label)"
   ]
  },
  {
   "cell_type": "code",
   "execution_count": null,
   "id": "55d304e7-cee9-4374-be4d-9caf35b99987",
   "metadata": {},
   "outputs": [],
   "source": []
  }
 ],
 "metadata": {
  "kernelspec": {
   "display_name": "Python 3 (ipykernel)",
   "language": "python",
   "name": "python3"
  },
  "language_info": {
   "codemirror_mode": {
    "name": "ipython",
    "version": 3
   },
   "file_extension": ".py",
   "mimetype": "text/x-python",
   "name": "python",
   "nbconvert_exporter": "python",
   "pygments_lexer": "ipython3",
   "version": "3.7.13"
  }
 },
 "nbformat": 4,
 "nbformat_minor": 5
}
